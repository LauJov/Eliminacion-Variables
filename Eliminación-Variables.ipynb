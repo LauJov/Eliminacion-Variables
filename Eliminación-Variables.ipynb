{
 "cells": [
  {
   "cell_type": "markdown",
   "metadata": {},
   "source": [
    "## ELIMINACIÓN DE VARIABLES"
   ]
  },
  {
   "cell_type": "code",
   "execution_count": 1,
   "metadata": {},
   "outputs": [],
   "source": [
    "import numpy as np\n",
    "import pandas as pd\n"
   ]
  },
  {
   "cell_type": "code",
   "execution_count": 2,
   "metadata": {},
   "outputs": [
    {
     "name": "stdout",
     "output_type": "stream",
     "text": [
      "   D    P\n",
      "0  0  0.6\n",
      "1  1  0.4\n"
     ]
    }
   ],
   "source": [
    "#Probabilidad de la variable dificultad\n",
    "difficulty = [[0,0.6],[1,0.4]]\n",
    "difficulty = pd.DataFrame(difficulty)\n",
    "difficulty.columns = ['D', 'P']\n",
    "print(difficulty)"
   ]
  },
  {
   "cell_type": "code",
   "execution_count": 3,
   "metadata": {},
   "outputs": [
    {
     "name": "stdout",
     "output_type": "stream",
     "text": [
      "   I    P\n",
      "0  0  0.7\n",
      "1  1  0.3\n"
     ]
    }
   ],
   "source": [
    "#Probabilidad de la variable inteligencia\n",
    "intelligence = [[0,0.7],[1,0.3]]\n",
    "intelligence = pd.DataFrame(intelligence)\n",
    "intelligence.columns = ['I', 'P']\n",
    "print(intelligence)"
   ]
  },
  {
   "cell_type": "code",
   "execution_count": 4,
   "metadata": {},
   "outputs": [
    {
     "name": "stdout",
     "output_type": "stream",
     "text": [
      "    I  D  G     P\n",
      "0   0  0  1  0.30\n",
      "1   0  0  2  0.40\n",
      "2   0  0  3  0.30\n",
      "3   0  1  1  0.05\n",
      "4   0  1  2  0.25\n",
      "5   0  1  3  0.70\n",
      "6   1  0  1  0.90\n",
      "7   1  0  2  0.08\n",
      "8   1  0  3  0.02\n",
      "9   1  1  1  0.50\n",
      "10  1  1  2  0.30\n",
      "11  1  1  3  0.20\n"
     ]
    }
   ],
   "source": [
    "#Probabilidad de la variable calificacion\n",
    "grade = [[0,0,1,0.3], [0,0,2,0.4],[0,0,3,0.3],\n",
    "         [0,1,1,0.05], [0,1,2,0.25],[0,1,3,0.7],\n",
    "         [1,0,1,0.9], [1,0,2,0.08],[1,0,3,0.02],\n",
    "         [1,1,1,0.5], [1,1,2,0.3],[1,1,3,0.2]]\n",
    "grade = pd.DataFrame(grade)\n",
    "grade.columns=['I','D','G','P']\n",
    "print(grade)"
   ]
  },
  {
   "cell_type": "code",
   "execution_count": 5,
   "metadata": {},
   "outputs": [
    {
     "name": "stdout",
     "output_type": "stream",
     "text": [
      "   I  S     P\n",
      "0  0  0  0.95\n",
      "1  0  1  0.05\n",
      "2  1  0  0.20\n",
      "3  1  1  0.80\n"
     ]
    }
   ],
   "source": [
    "#Probabilidad de la variable SAT\n",
    "SAT = [[0,0,0.95], [0,1,0.05], [1,0,0.2],[1,1,0.8]]\n",
    "SAT = pd.DataFrame(SAT)\n",
    "SAT.columns = ['I', 'S', 'P']\n",
    "print(SAT)"
   ]
  },
  {
   "cell_type": "code",
   "execution_count": 6,
   "metadata": {},
   "outputs": [
    {
     "name": "stdout",
     "output_type": "stream",
     "text": [
      "   G  L     P\n",
      "0  1  0  0.10\n",
      "1  1  1  0.90\n",
      "2  2  0  0.40\n",
      "3  2  1  0.60\n",
      "4  3  0  0.99\n",
      "5  3  1  0.01\n"
     ]
    }
   ],
   "source": [
    "#Probabilidad de la variable carta\n",
    "letter = [[1,0,0.1],[1,1,0.9],[2,0,0.4],[2,1,0.6], [3,0,0.99], [3,1,0.01]]\n",
    "letter = pd.DataFrame(letter)\n",
    "letter.columns = ['G','L','P']\n",
    "print(letter)"
   ]
  },
  {
   "cell_type": "markdown",
   "metadata": {},
   "source": [
    "## Obteniendo Probabilidades"
   ]
  },
  {
   "cell_type": "code",
   "execution_count": 7,
   "metadata": {},
   "outputs": [],
   "source": [
    "def get_Factor(factor1, factor2, param_eval, param):\n",
    "    f1 = factor1[param_eval]\n",
    "    f2 = factor2[param_eval]\n",
    "    f1_param = factor1[param]\n",
    "    p1 = factor1['P']\n",
    "    p2 = factor2['P']\n",
    "    new_factor = []\n",
    "    \n",
    "    for i in range(f1.size):\n",
    "        for j in range(f2.size):\n",
    "            if(f1[i] == f2[j]):\n",
    "                new_factor.append([f2[j], f1_param[i],p1[i]*p2[j]])\n",
    "                break\n",
    "                \n",
    "    new_factor = pd.DataFrame(new_factor)\n",
    "    new_factor.columns = [param_eval, param, 'P']\n",
    "    \n",
    "    return new_factor\n"
   ]
  },
  {
   "cell_type": "code",
   "execution_count": 8,
   "metadata": {},
   "outputs": [],
   "source": [
    "def get_marginalizacion(factor_input, param_eval):\n",
    "    \n",
    "    factor = factor_input.copy()   \n",
    "    f = factor[param_eval]\n",
    "    p = factor['P']\n",
    "    new_factor_mar = []\n",
    "    list_aux = np.array((np.zeros(f.size)))\n",
    "    \n",
    "    for i in range(f.size):\n",
    "        f1 = f[i+1:].copy() \n",
    "        val_aux = p[i]\n",
    "        for j in range(len(f1)):\n",
    "            if(f[i] == f1[j+i+1] and list_aux[j+i+1] == 0):\n",
    "                val_aux = val_aux+p[j+i+1]\n",
    "                list_aux[j+i+1] = 1;\n",
    "        if(list_aux[i] == 0):\n",
    "            new_factor_mar.append([f[i], val_aux])\n",
    "                \n",
    "    new_factor_mar = pd.DataFrame(new_factor_mar)\n",
    "    new_factor_mar.columns = [param_eval, 'P']\n",
    "    \n",
    "    return new_factor_mar\n",
    "        "
   ]
  },
  {
   "cell_type": "code",
   "execution_count": 9,
   "metadata": {
    "scrolled": true
   },
   "outputs": [
    {
     "name": "stdout",
     "output_type": "stream",
     "text": [
      "   I  S      P\n",
      "0  0  0  0.665\n",
      "1  0  1  0.035\n",
      "2  1  0  0.060\n",
      "3  1  1  0.240\n"
     ]
    }
   ],
   "source": [
    "# Obteniendo nuevo factor SAT\n",
    "factor_SAT = get_Factor(SAT, intelligence, 'I', 'S')\n",
    "print(factor_SAT)"
   ]
  },
  {
   "cell_type": "code",
   "execution_count": 10,
   "metadata": {},
   "outputs": [
    {
     "name": "stdout",
     "output_type": "stream",
     "text": [
      "   S      P\n",
      "0  0  0.725\n",
      "1  1  0.275\n"
     ]
    }
   ],
   "source": [
    "# Obteniendo marginalización SAT\n",
    "mar_SAT = get_marginalizacion(factor_SAT, 'S')\n",
    "print(mar_SAT)"
   ]
  },
  {
   "cell_type": "code",
   "execution_count": 11,
   "metadata": {},
   "outputs": [],
   "source": [
    "def get_Factor2(factor1, factor2, factor3, param_eval1, param_eval2, param):\n",
    "    f1_1 = factor1[param_eval1]    \n",
    "    f1_2 = factor1[param_eval2]\n",
    "    \n",
    "    f2 = factor2[param_eval1]\n",
    "    f3 = factor3[param_eval2]\n",
    "    \n",
    "    f1_param = factor1[param_eval1]\n",
    "    f2_param = factor1[param_eval2]\n",
    "    f3_param = factor1[param]\n",
    "    \n",
    "    p1 = factor1['P']\n",
    "    p2 = factor2['P']\n",
    "    p3 = factor3['P']\n",
    "    \n",
    "    new_factor = []\n",
    "    \n",
    "    for i in range(f1_1.size):\n",
    "        for j in range(f2.size):\n",
    "            for k in range(f3.size):\n",
    "                 if(f1_1[i] == f2[j] and f1_2[i] == f3[k]):\n",
    "                    new_factor.append([f3_param[i], f1_param[i], f2_param[i], p1[i]*p2[j]*p3[k] ])\n",
    "                    break\n",
    "                \n",
    "    new_factor = pd.DataFrame(new_factor)\n",
    "    new_factor.columns = [param, param_eval1, param_eval2, 'P']\n",
    "    \n",
    "               \n",
    "    return new_factor"
   ]
  },
  {
   "cell_type": "code",
   "execution_count": 12,
   "metadata": {},
   "outputs": [
    {
     "name": "stdout",
     "output_type": "stream",
     "text": [
      "    G  I  D       P\n",
      "0   1  0  0  0.1260\n",
      "1   2  0  0  0.1680\n",
      "2   3  0  0  0.1260\n",
      "3   1  0  1  0.0140\n",
      "4   2  0  1  0.0700\n",
      "5   3  0  1  0.1960\n",
      "6   1  1  0  0.1620\n",
      "7   2  1  0  0.0144\n",
      "8   3  1  0  0.0036\n",
      "9   1  1  1  0.0600\n",
      "10  2  1  1  0.0360\n",
      "11  3  1  1  0.0240\n"
     ]
    }
   ],
   "source": [
    "# Obteniendo nuevo factor grade\n",
    "factor_grade = get_Factor2(grade, intelligence, difficulty, 'I', 'D', 'G')\n",
    "print(factor_grade)"
   ]
  },
  {
   "cell_type": "code",
   "execution_count": 13,
   "metadata": {},
   "outputs": [
    {
     "name": "stdout",
     "output_type": "stream",
     "text": [
      "   G       P\n",
      "0  1  0.3620\n",
      "1  2  0.2884\n",
      "2  3  0.3496\n"
     ]
    }
   ],
   "source": [
    "# Obteniendo marginalización grade\n",
    "mar_grade = get_marginalizacion(factor_grade, 'G')\n",
    "print(mar_grade)"
   ]
  },
  {
   "cell_type": "code",
   "execution_count": 14,
   "metadata": {},
   "outputs": [
    {
     "name": "stdout",
     "output_type": "stream",
     "text": [
      "   G  L         P\n",
      "0  1  0  0.036200\n",
      "1  1  1  0.325800\n",
      "2  2  0  0.115360\n",
      "3  2  1  0.173040\n",
      "4  3  0  0.346104\n",
      "5  3  1  0.003496\n"
     ]
    }
   ],
   "source": [
    "# Obteniendo nuevo factor carta\n",
    "factor_letter = get_Factor(letter, mar_grade, 'G', 'L')\n",
    "print(factor_letter)"
   ]
  },
  {
   "cell_type": "code",
   "execution_count": 15,
   "metadata": {},
   "outputs": [
    {
     "name": "stdout",
     "output_type": "stream",
     "text": [
      "   L         P\n",
      "0  0  0.497664\n",
      "1  1  0.502336\n"
     ]
    }
   ],
   "source": [
    "# Obteniendo marginalización grade\n",
    "mar_letter = get_marginalizacion(factor_letter, 'L')\n",
    "print(mar_letter)"
   ]
  },
  {
   "cell_type": "markdown",
   "metadata": {},
   "source": [
    "## Verificando con SanIam"
   ]
  },
  {
   "cell_type": "code",
   "execution_count": 16,
   "metadata": {},
   "outputs": [
    {
     "data": {
      "image/png": "[encoded data removed]",
      "text/plain": [
       "<IPython.core.display.Image object>"
      ]
     },
     "execution_count": 16,
     "metadata": {},
     "output_type": "execute_result"
    }
   ],
   "source": [
    "from IPython.display import Image\n",
    "Image(filename='samiam.png')"
   ]
  },
  {
   "cell_type": "markdown",
   "metadata": {},
   "source": [
    "Como se puede verificar, nuestras probabilidades coinciden con los datos de SamIam"
   ]
  }
 ],
 "metadata": {
  "kernelspec": {
   "display_name": "Python 3",
   "language": "python",
   "name": "python3"
  },
  "language_info": {
   "codemirror_mode": {
    "name": "ipython",
    "version": 3
   },
   "file_extension": ".py",
   "mimetype": "text/x-python",
   "name": "python",
   "nbconvert_exporter": "python",
   "pygments_lexer": "ipython3",
   "version": "3.6.6"
  }
 },
 "nbformat": 4,
 "nbformat_minor": 2
}
